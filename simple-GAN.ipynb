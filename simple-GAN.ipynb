{
 "cells": [
  {
   "cell_type": "markdown",
   "metadata": {},
   "source": [
    "## Generative Adversarial Network\n",
    "\n",
    "This notebook shows the example of a generative adversarial network (GAN) trained on the MNIST dataset. We can then take this GAN training network and generate new handwritten images.\n",
    "\n",
    "The main idea is that you have two networks, a generator $G$ and a discriminator $D$, competing against each other. The generator creates \"fake\" data to pass to the discriminator. The discriminator also sees the real training data and predicts whether the data he has seen is real or fake. \n",
    "\n",
    "> * The generator is trained to fool the discriminator and in doing so, it wants to output data that looks _as close as possible_ to real data. \n",
    "* The discriminator is a classifier that is trained to distinguish which data is real and which is fake. \n",
    "\n",
    "\n",
    "\n",
    "\n",
    "![GAN Pipeline](assets/gan_pipeline.png) \n",
    "\n",
    "What ends up happening is that the generator learns to make data that is indistinguishable from real data to the discriminator. \n",
    "\n",
    "The general pipeline of the GAN is shown above where the real data is MNIST images. The latent sample is a random vector that the generator uses to construct its fake images. This is called a **latent vector** and that vector space is called **latent space**. As the generator trains, it learns how to map latent vectors to recignizable images that can fool the discriminator. \n",
    "\n",
    "The output of a discriminator is a **sigmoid function** where 0 indicates a fake image and 1 indicates a real image."
   ]
  },
  {
   "cell_type": "code",
   "execution_count": 2,
   "metadata": {
    "collapsed": true
   },
   "outputs": [],
   "source": [
    "%matplotlib inline\n",
    "\n",
    "import torch\n",
    "import torch.nn as nn\n",
    "import torch.nn.functional as F\n",
    "from torchvision import datasets\n",
    "import torchvision.transforms as transforms\n",
    "import numpy as np\n",
    "import matplotlib.pyplot as plt"
   ]
  },
  {
   "cell_type": "code",
   "execution_count": 3,
   "metadata": {
    "collapsed": false
   },
   "outputs": [
    {
     "name": "stderr",
     "output_type": "stream",
     "text": [
      "\r",
      "0it [00:00, ?it/s]"
     ]
    },
    {
     "name": "stdout",
     "output_type": "stream",
     "text": [
      "Downloading http://yann.lecun.com/exdb/mnist/train-images-idx3-ubyte.gz to data/MNIST/raw/train-images-idx3-ubyte.gz\n"
     ]
    },
    {
     "name": "stderr",
     "output_type": "stream",
     "text": [
      "100%|█████████▉| 9904128/9912422 [03:58<00:00, 44197.62it/s] "
     ]
    },
    {
     "name": "stdout",
     "output_type": "stream",
     "text": [
      "Extracting data/MNIST/raw/train-images-idx3-ubyte.gz\n"
     ]
    },
    {
     "name": "stderr",
     "output_type": "stream",
     "text": [
      "\n",
      "0it [00:00, ?it/s]\u001b[A"
     ]
    },
    {
     "name": "stdout",
     "output_type": "stream",
     "text": [
      "Downloading http://yann.lecun.com/exdb/mnist/train-labels-idx1-ubyte.gz to data/MNIST/raw/train-labels-idx1-ubyte.gz\n"
     ]
    },
    {
     "name": "stderr",
     "output_type": "stream",
     "text": [
      "\n",
      "  0%|          | 0/28881 [00:00<?, ?it/s]\u001b[A\n",
      " 57%|█████▋    | 16384/28881 [00:00<00:00, 152065.19it/s]\u001b[A\n",
      "32768it [00:00, 77162.35it/s]                            \u001b[A\n",
      "\n",
      "0it [00:00, ?it/s]\u001b[A"
     ]
    },
    {
     "name": "stdout",
     "output_type": "stream",
     "text": [
      "Extracting data/MNIST/raw/train-labels-idx1-ubyte.gz\n",
      "Downloading http://yann.lecun.com/exdb/mnist/t10k-images-idx3-ubyte.gz to data/MNIST/raw/t10k-images-idx3-ubyte.gz\n"
     ]
    },
    {
     "name": "stderr",
     "output_type": "stream",
     "text": [
      "\n",
      "  0%|          | 0/1648877 [00:00<?, ?it/s]\u001b[A\n",
      "  0%|          | 8192/1648877 [00:00<00:23, 68715.49it/s]\u001b[A\n",
      "  1%|▏         | 24576/1648877 [00:00<00:19, 81234.78it/s]\u001b[A\n",
      "  2%|▏         | 32768/1648877 [00:00<00:20, 79973.95it/s]\u001b[A\n",
      "  3%|▎         | 49152/1648877 [00:00<00:19, 80353.98it/s]\u001b[A\n",
      "  3%|▎         | 57344/1648877 [00:00<00:20, 77010.68it/s]\u001b[A\n",
      "  4%|▍         | 73728/1648877 [00:01<00:17, 91270.65it/s]\u001b[A\n",
      "  5%|▌         | 90112/1648877 [00:01<00:17, 88193.28it/s]\u001b[A\n",
      "  6%|▋         | 106496/1648877 [00:01<00:23, 65699.18it/s]\u001b[A\n",
      "  7%|▋         | 122880/1648877 [00:01<00:19, 79576.04it/s]\u001b[A\n",
      "  8%|▊         | 139264/1648877 [00:02<00:21, 69498.47it/s]\u001b[A\n",
      "  9%|▉         | 155648/1648877 [00:02<00:24, 60623.33it/s]\u001b[A\n",
      " 10%|▉         | 163840/1648877 [00:02<00:26, 56885.66it/s]\u001b[A\n",
      " 10%|█         | 172032/1648877 [00:02<00:23, 62624.95it/s]\u001b[A\n",
      " 11%|█         | 180224/1648877 [00:02<00:27, 53631.09it/s]\u001b[A\n",
      " 11%|█▏        | 188416/1648877 [00:02<00:24, 59637.51it/s]\u001b[A\n",
      " 12%|█▏        | 196608/1648877 [00:03<00:22, 64924.80it/s]\u001b[A\n",
      " 12%|█▏        | 204800/1648877 [00:03<00:28, 50981.26it/s]\u001b[A\n",
      " 13%|█▎        | 221184/1648877 [00:03<00:23, 59590.62it/s]\u001b[A\n",
      " 14%|█▍        | 229376/1648877 [00:03<00:32, 43366.54it/s]\u001b[A\n",
      " 15%|█▍        | 245760/1648877 [00:03<00:25, 55404.20it/s]\u001b[A\n",
      " 16%|█▌        | 262144/1648877 [00:04<00:25, 55063.92it/s]\u001b[A\n",
      " 16%|█▋        | 270336/1648877 [00:04<00:24, 55890.09it/s]\u001b[A\n",
      " 17%|█▋        | 278528/1648877 [00:04<00:22, 61529.97it/s]\u001b[A\n",
      " 17%|█▋        | 286720/1648877 [00:04<00:24, 56260.39it/s]\u001b[A\n",
      " 18%|█▊        | 294912/1648877 [00:04<00:32, 42303.74it/s]\u001b[A\n",
      " 18%|█▊        | 303104/1648877 [00:05<00:34, 39354.70it/s]\u001b[A\n",
      " 19%|█▉        | 311296/1648877 [00:05<00:42, 31727.01it/s]\u001b[A\n",
      " 19%|█▉        | 319488/1648877 [00:05<00:42, 31008.54it/s]\u001b[A\n",
      " 20%|█▉        | 327680/1648877 [00:06<00:53, 24754.74it/s]\u001b[A\n",
      " 20%|██        | 335872/1648877 [00:06<00:49, 26427.27it/s]\u001b[A\n",
      " 21%|██        | 344064/1648877 [00:06<00:42, 30906.74it/s]\u001b[A\n",
      " 21%|██▏       | 352256/1648877 [00:06<00:38, 34088.77it/s]\u001b[A\n",
      " 22%|██▏       | 360448/1648877 [00:07<00:35, 36716.08it/s]\u001b[A\n",
      " 22%|██▏       | 368640/1648877 [00:07<00:39, 32162.48it/s]\u001b[A\n",
      " 23%|██▎       | 385024/1648877 [00:07<00:36, 34825.01it/s]\u001b[A\n",
      " 24%|██▍       | 393216/1648877 [00:07<00:33, 37923.78it/s]\u001b[A\n",
      " 24%|██▍       | 401408/1648877 [00:08<00:31, 39693.71it/s]\u001b[A\n",
      " 25%|██▍       | 409600/1648877 [00:08<00:30, 40832.89it/s]\u001b[A\n",
      " 25%|██▌       | 417792/1648877 [00:08<00:40, 30596.68it/s]\u001b[A\n",
      " 26%|██▋       | 434176/1648877 [00:08<00:31, 38290.34it/s]\u001b[A\n",
      " 27%|██▋       | 442368/1648877 [00:09<00:38, 31255.59it/s]\u001b[A\n",
      " 27%|██▋       | 450560/1648877 [00:09<00:37, 31828.59it/s]\u001b[A\n",
      " 28%|██▊       | 458752/1648877 [00:09<00:30, 38904.80it/s]\u001b[A\n",
      " 28%|██▊       | 466944/1648877 [00:09<00:25, 45953.27it/s]\u001b[A\n",
      " 29%|██▉       | 475136/1648877 [00:10<00:31, 37600.37it/s]\u001b[A\n",
      " 30%|██▉       | 491520/1648877 [00:10<00:25, 44926.08it/s]\u001b[A\n",
      " 30%|███       | 499712/1648877 [00:10<00:22, 51869.79it/s]\u001b[A\n",
      " 31%|███       | 507904/1648877 [00:10<00:19, 57997.42it/s]\u001b[A\n",
      "9920512it [04:10, 44197.62it/s]                             [A\n",
      " 32%|███▏      | 524288/1648877 [00:10<00:20, 53942.04it/s]\u001b[A\n",
      " 32%|███▏      | 532480/1648877 [00:10<00:22, 49012.52it/s]\u001b[A\n",
      " 33%|███▎      | 548864/1648877 [00:11<00:19, 55254.79it/s]\u001b[A\n",
      " 34%|███▍      | 557056/1648877 [00:11<00:17, 60845.91it/s]\u001b[A\n",
      " 34%|███▍      | 565248/1648877 [00:11<00:16, 65924.06it/s]\u001b[A\n",
      " 35%|███▍      | 573440/1648877 [00:11<00:15, 69585.32it/s]\u001b[A\n",
      " 35%|███▌      | 581632/1648877 [00:11<00:14, 72561.00it/s]\u001b[A\n",
      " 36%|███▌      | 589824/1648877 [00:11<00:14, 74664.47it/s]\u001b[A\n",
      " 37%|███▋      | 606208/1648877 [00:11<00:13, 76284.85it/s]\u001b[A\n",
      " 37%|███▋      | 614400/1648877 [00:11<00:13, 76772.40it/s]\u001b[A\n",
      " 38%|███▊      | 622592/1648877 [00:12<00:17, 60266.26it/s]\u001b[A\n",
      " 38%|███▊      | 630784/1648877 [00:12<00:15, 65391.83it/s]\u001b[A\n",
      " 39%|███▉      | 638976/1648877 [00:12<00:14, 69448.89it/s]\u001b[A\n",
      " 39%|███▉      | 647168/1648877 [00:12<00:18, 55064.47it/s]\u001b[A\n",
      " 40%|████      | 663552/1648877 [00:12<00:14, 68225.92it/s]\u001b[A\n",
      " 41%|████      | 679936/1648877 [00:13<00:15, 62375.79it/s]\u001b[A\n",
      " 42%|████▏     | 688128/1648877 [00:13<00:18, 53068.12it/s]\u001b[A\n",
      " 43%|████▎     | 712704/1648877 [00:13<00:15, 59143.21it/s]\u001b[A\n",
      " 44%|████▎     | 720896/1648877 [00:13<00:15, 58522.65it/s]\u001b[A\n",
      " 44%|████▍     | 729088/1648877 [00:13<00:17, 51606.16it/s]\u001b[A\n",
      " 45%|████▍     | 737280/1648877 [00:14<00:22, 40090.53it/s]\u001b[A\n",
      " 45%|████▌     | 745472/1648877 [00:14<00:22, 39688.92it/s]\u001b[A\n",
      " 46%|████▌     | 753664/1648877 [00:14<00:22, 39345.81it/s]\u001b[A\n",
      " 46%|████▌     | 761856/1648877 [00:14<00:19, 46556.38it/s]\u001b[A\n",
      " 47%|████▋     | 770048/1648877 [00:14<00:16, 52153.14it/s]\u001b[A\n",
      " 47%|████▋     | 778240/1648877 [00:15<00:18, 46746.13it/s]\u001b[A\n",
      " 48%|████▊     | 786432/1648877 [00:15<00:19, 44755.74it/s]\u001b[A\n",
      " 48%|████▊     | 794624/1648877 [00:15<00:16, 50875.15it/s]\u001b[A\n",
      " 49%|████▊     | 802816/1648877 [00:15<00:14, 57014.18it/s]\u001b[A\n",
      " 49%|████▉     | 811008/1648877 [00:15<00:18, 45133.68it/s]\u001b[A\n",
      " 50%|████▉     | 819200/1648877 [00:16<00:21, 38712.53it/s]\u001b[A\n",
      " 50%|█████     | 827392/1648877 [00:16<00:23, 34345.33it/s]\u001b[A\n",
      " 51%|█████     | 835584/1648877 [00:16<00:22, 36704.66it/s]\u001b[A\n",
      " 51%|█████     | 843776/1648877 [00:16<00:18, 43305.79it/s]\u001b[A\n",
      " 52%|█████▏    | 851968/1648877 [00:16<00:17, 45862.69it/s]\u001b[A\n",
      " 53%|█████▎    | 868352/1648877 [00:17<00:16, 46354.71it/s]\u001b[A\n",
      " 54%|█████▎    | 884736/1648877 [00:17<00:16, 45773.28it/s]\u001b[A\n",
      " 54%|█████▍    | 892928/1648877 [00:17<00:20, 36846.07it/s]\u001b[A\n",
      " 55%|█████▍    | 901120/1648877 [00:18<00:24, 30943.10it/s]\u001b[A\n",
      " 55%|█████▌    | 909312/1648877 [00:18<00:26, 27630.55it/s]\u001b[A\n",
      " 56%|█████▌    | 917504/1648877 [00:18<00:30, 24203.79it/s]\u001b[A\n",
      " 56%|█████▌    | 925696/1648877 [00:19<00:35, 20598.61it/s]\u001b[A\n",
      " 57%|█████▋    | 933888/1648877 [00:19<00:33, 21587.14it/s]\u001b[A\n",
      " 57%|█████▋    | 942080/1648877 [00:20<00:30, 22971.99it/s]\u001b[A\n",
      " 58%|█████▊    | 950272/1648877 [00:20<00:26, 26420.81it/s]\u001b[A\n",
      " 58%|█████▊    | 958464/1648877 [00:20<00:20, 33059.40it/s]\u001b[A\n",
      " 59%|█████▊    | 966656/1648877 [00:20<00:17, 40120.99it/s]\u001b[A\n",
      " 59%|█████▉    | 974848/1648877 [00:20<00:14, 47356.71it/s]\u001b[A\n",
      " 60%|█████▉    | 983040/1648877 [00:20<00:12, 54180.70it/s]\u001b[A\n",
      " 61%|██████    | 999424/1648877 [00:20<00:10, 60461.83it/s]\u001b[A\n",
      " 61%|██████    | 1007616/1648877 [00:21<00:09, 64736.08it/s]\u001b[A\n",
      " 62%|██████▏   | 1024000/1648877 [00:21<00:09, 68679.41it/s]\u001b[A\n",
      " 63%|██████▎   | 1040384/1648877 [00:21<00:08, 72116.73it/s]\u001b[A\n",
      " 64%|██████▍   | 1056768/1648877 [00:21<00:07, 74823.09it/s]\u001b[A\n",
      " 65%|██████▍   | 1064960/1648877 [00:21<00:07, 76744.93it/s]\u001b[A\n",
      " 65%|██████▌   | 1073152/1648877 [00:21<00:09, 60664.29it/s]\u001b[A\n",
      " 66%|██████▌   | 1081344/1648877 [00:22<00:08, 65256.68it/s]\u001b[A\n",
      " 66%|██████▌   | 1089536/1648877 [00:22<00:10, 55344.88it/s]\u001b[A\n",
      " 67%|██████▋   | 1105920/1648877 [00:22<00:08, 61476.76it/s]\u001b[A\n",
      " 68%|██████▊   | 1114112/1648877 [00:22<00:08, 66341.89it/s]\u001b[A\n",
      " 68%|██████▊   | 1122304/1648877 [00:22<00:07, 70062.21it/s]\u001b[A\n",
      " 69%|██████▊   | 1130496/1648877 [00:22<00:07, 72643.95it/s]\u001b[A\n",
      " 69%|██████▉   | 1138688/1648877 [00:22<00:06, 74971.73it/s]\u001b[A\n",
      " 70%|██████▉   | 1146880/1648877 [00:22<00:06, 76792.91it/s]\u001b[A\n",
      " 70%|███████   | 1155072/1648877 [00:23<00:06, 78174.30it/s]\u001b[A\n",
      " 71%|███████   | 1163264/1648877 [00:23<00:06, 78927.50it/s]\u001b[A\n",
      " 71%|███████   | 1171456/1648877 [00:23<00:06, 79284.44it/s]\u001b[A\n",
      " 72%|███████▏  | 1187840/1648877 [00:23<00:04, 92752.56it/s]\u001b[A\n",
      " 73%|███████▎  | 1204224/1648877 [00:23<00:05, 76159.04it/s]\u001b[A\n",
      " 74%|███████▍  | 1220608/1648877 [00:23<00:05, 72973.23it/s]\u001b[A\n",
      " 75%|███████▍  | 1228800/1648877 [00:24<00:06, 64543.24it/s]\u001b[A\n",
      " 75%|███████▌  | 1236992/1648877 [00:24<00:05, 68859.56it/s]\u001b[A\n",
      " 76%|███████▌  | 1245184/1648877 [00:24<00:07, 57157.99it/s]\u001b[A\n",
      " 76%|███████▌  | 1253376/1648877 [00:24<00:06, 62814.51it/s]\u001b[A\n",
      " 77%|███████▋  | 1269760/1648877 [00:24<00:05, 67458.63it/s]\u001b[A\n",
      " 78%|███████▊  | 1277952/1648877 [00:24<00:05, 71126.14it/s]\u001b[A\n",
      " 78%|███████▊  | 1286144/1648877 [00:24<00:04, 74047.76it/s]\u001b[A\n",
      " 79%|███████▉  | 1302528/1648877 [00:25<00:03, 88182.52it/s]\u001b[A\n",
      " 80%|███████▉  | 1318912/1648877 [00:25<00:03, 102305.06it/s]\u001b[A\n",
      " 81%|████████  | 1335296/1648877 [00:25<00:03, 96034.67it/s] \u001b[A\n",
      " 82%|████████▏ | 1351680/1648877 [00:25<00:02, 108803.10it/s]\u001b[A\n",
      " 83%|████████▎ | 1368064/1648877 [00:25<00:02, 119978.57it/s]\u001b[A\n",
      " 84%|████████▍ | 1384448/1648877 [00:25<00:02, 130327.30it/s]\u001b[A\n",
      " 85%|████████▍ | 1400832/1648877 [00:25<00:01, 138830.60it/s]\u001b[A\n",
      " 86%|████████▌ | 1417216/1648877 [00:25<00:02, 100935.09it/s]\u001b[A\n",
      " 87%|████████▋ | 1433600/1648877 [00:26<00:03, 57194.30it/s] \u001b[A\n",
      " 88%|████████▊ | 1449984/1648877 [00:26<00:03, 63898.36it/s]\u001b[A\n",
      " 89%|████████▉ | 1466368/1648877 [00:26<00:02, 78012.54it/s]\u001b[A\n",
      " 90%|████████▉ | 1482752/1648877 [00:27<00:02, 82788.28it/s]\u001b[A\n",
      " 91%|█████████ | 1499136/1648877 [00:27<00:01, 87717.57it/s]\u001b[A\n",
      " 92%|█████████▏| 1515520/1648877 [00:27<00:01, 88126.57it/s]\u001b[A\n",
      " 93%|█████████▎| 1531904/1648877 [00:27<00:02, 57824.90it/s]\u001b[A\n",
      " 94%|█████████▍| 1556480/1648877 [00:28<00:01, 69854.56it/s]\u001b[A\n",
      " 95%|█████████▌| 1572864/1648877 [00:28<00:01, 74851.10it/s]\u001b[A\n",
      " 96%|█████████▋| 1589248/1648877 [00:28<00:00, 62199.13it/s]\u001b[A\n",
      " 97%|█████████▋| 1597440/1648877 [00:28<00:00, 55328.72it/s]\u001b[A\n",
      " 97%|█████████▋| 1605632/1648877 [00:28<00:00, 56184.88it/s]\u001b[A\n",
      " 98%|█████████▊| 1613824/1648877 [00:29<00:00, 52108.75it/s]\u001b[A\n",
      " 99%|█████████▉| 1630208/1648877 [00:29<00:00, 65482.67it/s]\u001b[A\n",
      "100%|█████████▉| 1646592/1648877 [00:29<00:00, 57984.85it/s]\u001b[A\n",
      "\n",
      "0it [00:00, ?it/s]\u001b[A\u001b[A"
     ]
    },
    {
     "name": "stdout",
     "output_type": "stream",
     "text": [
      "Extracting data/MNIST/raw/t10k-images-idx3-ubyte.gz\n",
      "Downloading http://yann.lecun.com/exdb/mnist/t10k-labels-idx1-ubyte.gz to data/MNIST/raw/t10k-labels-idx1-ubyte.gz\n"
     ]
    },
    {
     "name": "stderr",
     "output_type": "stream",
     "text": [
      "\n",
      "\n",
      "8192it [00:00, 25132.75it/s]            \u001b[A\u001b[A"
     ]
    },
    {
     "name": "stdout",
     "output_type": "stream",
     "text": [
      "Extracting data/MNIST/raw/t10k-labels-idx1-ubyte.gz\n",
      "Processing...\n",
      "Done!\n"
     ]
    },
    {
     "name": "stderr",
     "output_type": "stream",
     "text": [
      "\n",
      "\n",
      "1654784it [00:40, 57984.85it/s]                             \u001b[A"
     ]
    }
   ],
   "source": [
    "# Define variables for data loading:\n",
    "\n",
    "# number of subprocesses to use\n",
    "num_workers = 0\n",
    "# how many samples per batch to load\n",
    "batch_size = 64\n",
    "\n",
    "# convert data to torch.FloatTensor\n",
    "transform = transforms.ToTensor()\n",
    "\n",
    "# get the training datasets\n",
    "train_data = datasets.MNIST(root = 'data', train = True, download = True, transform = transform)\n",
    "\n",
    "# prepare data loader\n",
    "train_loader = torch.utils.data.DataLoader(train_data, batch_size = batch_size, num_workers = num_workers)"
   ]
  },
  {
   "cell_type": "code",
   "execution_count": 4,
   "metadata": {
    "collapsed": false
   },
   "outputs": [
    {
     "data": {
      "text/plain": [
       "<matplotlib.image.AxesImage at 0x11b902b00>"
      ]
     },
     "execution_count": 4,
     "metadata": {},
     "output_type": "execute_result"
    },
    {
     "data": {
      "image/png": "[encoded data removed]",
      "text/plain": [
       "<matplotlib.figure.Figure at 0x105fcdb70>"
      ]
     },
     "metadata": {},
     "output_type": "display_data"
    }
   ],
   "source": [
    "# Plot a sample image:\n",
    "\n",
    "sample_ix = 8\n",
    "\n",
    "# get one batch of training images\n",
    "dataiter = iter(train_loader)\n",
    "images, labels = dataiter.next()\n",
    "images = images.numpy()\n",
    "\n",
    "# get one image from the batch\n",
    "img = np.squeeze(images[sample_ix])\n",
    "\n",
    "fig = plt.figure(figsize = (3,3)) \n",
    "ax = fig.add_subplot(111)\n",
    "ax.imshow(img, cmap='gray')"
   ]
  },
  {
   "cell_type": "markdown",
   "metadata": {},
   "source": [
    "## The model\n",
    "\n",
    "A GAN consists of two adversarial networks, a discriminator and a generator.\n",
    "\n",
    "![GAN Network](assets/gan_network.png) \n",
    "\n",
    "\n",
    "### Generator network\n",
    "\n",
    "The input to the generator is *z*, which is a random noise vector. The generator then learns how to convert this vector into an image. To make this network a universal function approximator, we need at least one hidden layer. These hidden layers should have a [**leaky ReLu**](https://pytorch.org/docs/stable/nn.html#torch.nn.LeakyReLU) activation function applied to their output. Recall that a leaky ReLU is very similar to the normal ReLu except that there is a small, non-zero output when input is negative:\n",
    "\n",
    "\n",
    "$\\mathrm{LeakyReLU(x) = max(0, x) + negative\\_ slope*min(0, x)} $\n",
    "\n",
    "where $\\mathrm{negative\\_ slope}$ has a default value 0.01.\n",
    "\n",
    "After the final hidden layer in the generator we have a [**tanh**](https://pytorch.org/docs/stable/nn.html#tanh) activation function.  The generator has been found to perform the best with tanh for the generator output. Recall that tanh function squishes the output into the range [-1, 1].\n",
    "\n",
    "\n",
    "\n",
    "### Discriminator network\n",
    "\n",
    "**Since the output from tanh is bounded by [-1, 1], we also have to rescale our images from [0, 1] to [-1, 1]**. We feed both images and tanh output to the hidden layer.\n",
    "\n",
    "We'll also take the approach of using a more numerically stable loss function on the outputs. Recall that we want the discriminator to output a value 0 or 1 indicating whether an image is real or fake. Therefore, we will ultimately use [**BCEWithLogitsLoss**](https://pytorch.org/docs/stable/nn.html#bcewithlogitsloss), which combines a sigmoid activation function and and binary cross entropy loss in one function. This proved to be more numerically stable than using a plain sigmoid followed by a binary cross entropy loss."
   ]
  },
  {
   "cell_type": "code",
   "execution_count": 5,
   "metadata": {
    "collapsed": true
   },
   "outputs": [],
   "source": [
    "class Discriminator(nn.Module):\n",
    "\n",
    "    def __init__(self, input_size, hidden_dim, output_size):\n",
    "        super(Discriminator, self).__init__()\n",
    "        \"\"\"\n",
    "        Builds the discriminator network. \n",
    "        Parameters\n",
    "        ----------\n",
    "        input_size : int\n",
    "        Size of the input image to the discriminator\n",
    "        hidden_dim : int\n",
    "        Size of the last hidden layer in the discriminator\n",
    "        output_size : int\n",
    "        Size of discriminator output (1: real or fake?)\n",
    "\n",
    "        Returns\n",
    "        -------\n",
    "        out : Pytorch object for the discriminator model\n",
    "\n",
    "        \"\"\"\n",
    "        # hidden layers\n",
    "        self.fc1 = nn.Linear(input_size, hidden_dim*4)\n",
    "        self.fc2 = nn.Linear(hidden_dim*4, hidden_dim*2)\n",
    "        self.fc3 = nn.Linear(hidden_dim*2, hidden_dim)\n",
    "        \n",
    "        # final fully-connected layer\n",
    "        self.fc4 = nn.Linear(hidden_dim, output_size)\n",
    "        \n",
    "        # dropout layer \n",
    "        self.dropout = nn.Dropout(0.3)\n",
    "        \n",
    "        \n",
    "    def forward(self, x):\n",
    "        # flatten image\n",
    "        x = x.view(-1, 28*28)\n",
    "        # all hidden layers\n",
    "        x = F.leaky_relu(self.fc1(x), 0.2) # (input, negative_slope=0.2)\n",
    "        x = self.dropout(x)\n",
    "        x = F.leaky_relu(self.fc2(x), 0.2)\n",
    "        x = self.dropout(x)\n",
    "        x = F.leaky_relu(self.fc3(x), 0.2)\n",
    "        x = self.dropout(x)\n",
    "        # final layer\n",
    "        out = self.fc4(x)\n",
    "\n",
    "        return out"
   ]
  },
  {
   "cell_type": "code",
   "execution_count": 6,
   "metadata": {
    "collapsed": false
   },
   "outputs": [],
   "source": [
    "class Generator(nn.Module):\n",
    "\n",
    "    def __init__(self, input_size, hidden_dim, output_size):\n",
    "        super(Generator, self).__init__()\n",
    "        \"\"\"\n",
    "        Builds the generator network. \n",
    "        Parameters\n",
    "        ----------\n",
    "        input_size : int\n",
    "        Size of the latent vector that is fed to the generator\n",
    "        hidden_dim : int\n",
    "        Size of the first hidden layer in the generator\n",
    "        output_size : int\n",
    "        Size of discriminator output (generated image)\n",
    "\n",
    "        Returns\n",
    "        -------\n",
    "        out : Pytorch object for the generator model\n",
    "\n",
    "        \"\"\"\n",
    "        # hidden layers\n",
    "        self.fc1 = nn.Linear(input_size, hidden_dim)\n",
    "        self.fc2 = nn.Linear(hidden_dim, hidden_dim*2)\n",
    "        self.fc3 = nn.Linear(hidden_dim*2, hidden_dim*4)\n",
    "        \n",
    "        # fully-connected layer\n",
    "        self.fc4 = nn.Linear(hidden_dim*4, output_size)\n",
    "        \n",
    "        # dropout layer \n",
    "        self.dropout = nn.Dropout(0.3)\n",
    "\n",
    "    def forward(self, x):\n",
    "        # all hidden layers\n",
    "        x = F.leaky_relu(self.fc1(x), 0.2) # (input, negative_slope=0.2)\n",
    "        x = self.dropout(x)\n",
    "        x = F.leaky_relu(self.fc2(x), 0.2)\n",
    "        x = self.dropout(x)\n",
    "        x = F.leaky_relu(self.fc3(x), 0.2)\n",
    "        x = self.dropout(x)\n",
    "        # final layer with tanh applied\n",
    "        out = F.tanh(self.fc4(x))\n",
    "\n",
    "        return out"
   ]
  },
  {
   "cell_type": "code",
   "execution_count": 7,
   "metadata": {
    "collapsed": true
   },
   "outputs": [],
   "source": [
    "# Discriminator hyperparams\n",
    "\n",
    "# Size of input image to discriminator (28*28)\n",
    "input_size = 784\n",
    "# Size of discriminator output (real or fake)\n",
    "d_output_size = 1\n",
    "# Size of last hidden layer in the discriminator\n",
    "d_hidden_size = 32\n",
    "\n",
    "# Generator hyperparams\n",
    "\n",
    "# Size of latent vector to give to generator\n",
    "z_size = 100\n",
    "# Size of discriminator output (generated image)\n",
    "g_output_size = 784\n",
    "# Size of first hidden layer in the generator\n",
    "g_hidden_size = 32"
   ]
  },
  {
   "cell_type": "code",
   "execution_count": 8,
   "metadata": {
    "collapsed": false
   },
   "outputs": [
    {
     "name": "stdout",
     "output_type": "stream",
     "text": [
      "Discriminator(\n",
      "  (fc1): Linear(in_features=784, out_features=128, bias=True)\n",
      "  (fc2): Linear(in_features=128, out_features=64, bias=True)\n",
      "  (fc3): Linear(in_features=64, out_features=32, bias=True)\n",
      "  (fc4): Linear(in_features=32, out_features=1, bias=True)\n",
      "  (dropout): Dropout(p=0.3)\n",
      ")\n",
      "Generator(\n",
      "  (fc1): Linear(in_features=100, out_features=32, bias=True)\n",
      "  (fc2): Linear(in_features=32, out_features=64, bias=True)\n",
      "  (fc3): Linear(in_features=64, out_features=128, bias=True)\n",
      "  (fc4): Linear(in_features=128, out_features=784, bias=True)\n",
      "  (dropout): Dropout(p=0.3)\n",
      ")\n"
     ]
    }
   ],
   "source": [
    "# instantiate discriminator and generator\n",
    "D = Discriminator(input_size, d_hidden_size, d_output_size)\n",
    "G = Generator(z_size, g_hidden_size, g_output_size)\n",
    "\n",
    "# check that they are as you expect\n",
    "print(D)\n",
    "\n",
    "print(G)\n"
   ]
  },
  {
   "cell_type": "code",
   "execution_count": 9,
   "metadata": {
    "collapsed": true
   },
   "outputs": [],
   "source": [
    "# Calculate losses\n",
    "def real_loss(D_out, smooth=False):\n",
    "    batch_size = D_out.size(0)\n",
    "    # label smoothing\n",
    "    if smooth:\n",
    "        # smooth, real labels = 0.9\n",
    "        labels = torch.ones(batch_size)*0.9\n",
    "    else:\n",
    "        labels = torch.ones(batch_size) # real labels = 1\n",
    "        \n",
    "    # numerically stable loss\n",
    "    criterion = nn.BCEWithLogitsLoss()\n",
    "    # calculate loss\n",
    "    loss = criterion(D_out.squeeze(), labels)\n",
    "    return loss\n",
    "\n",
    "def fake_loss(D_out):\n",
    "    batch_size = D_out.size(0)\n",
    "    labels = torch.zeros(batch_size) # fake labels = 0\n",
    "    criterion = nn.BCEWithLogitsLoss()\n",
    "    # calculate loss\n",
    "    loss = criterion(D_out.squeeze(), labels)\n",
    "    return loss"
   ]
  },
  {
   "cell_type": "code",
   "execution_count": 10,
   "metadata": {
    "collapsed": true
   },
   "outputs": [],
   "source": [
    "import torch.optim as optim\n",
    "\n",
    "# Optimizers\n",
    "lr = 0.002\n",
    "\n",
    "# Create optimizers for the discriminator and generator\n",
    "d_optimizer = optim.Adam(D.parameters(), lr)\n",
    "g_optimizer = optim.Adam(G.parameters(), lr)"
   ]
  },
  {
   "cell_type": "code",
   "execution_count": 11,
   "metadata": {
    "collapsed": false
   },
   "outputs": [
    {
     "name": "stderr",
     "output_type": "stream",
     "text": [
      "/Users/adele/.pyenv/versions/anaconda3-4.3.1/lib/python3.6/site-packages/torch/nn/functional.py:1320: UserWarning: nn.functional.tanh is deprecated. Use torch.tanh instead.\n",
      "  warnings.warn(\"nn.functional.tanh is deprecated. Use torch.tanh instead.\")\n"
     ]
    },
    {
     "name": "stdout",
     "output_type": "stream",
     "text": [
      "Epoch [    1/   20] | d_loss: 1.4207 | g_loss: 0.6045\n",
      "Epoch [    1/   20] | d_loss: 0.5533 | g_loss: 7.2447\n",
      "Epoch [    1/   20] | d_loss: 0.6451 | g_loss: 3.5005\n",
      "Epoch [    2/   20] | d_loss: 1.0633 | g_loss: 2.5102\n",
      "Epoch [    2/   20] | d_loss: 1.1925 | g_loss: 1.2928\n",
      "Epoch [    2/   20] | d_loss: 1.2524 | g_loss: 1.1540\n",
      "Epoch [    3/   20] | d_loss: 0.9427 | g_loss: 2.1881\n",
      "Epoch [    3/   20] | d_loss: 0.9982 | g_loss: 1.2516\n",
      "Epoch [    3/   20] | d_loss: 1.3119 | g_loss: 0.9679\n",
      "Epoch [    4/   20] | d_loss: 1.3273 | g_loss: 1.0522\n",
      "Epoch [    4/   20] | d_loss: 1.2517 | g_loss: 1.0541\n",
      "Epoch [    4/   20] | d_loss: 1.0443 | g_loss: 1.5083\n",
      "Epoch [    5/   20] | d_loss: 1.2171 | g_loss: 0.9702\n",
      "Epoch [    5/   20] | d_loss: 1.4073 | g_loss: 1.0185\n",
      "Epoch [    5/   20] | d_loss: 1.6671 | g_loss: 0.9427\n",
      "Epoch [    6/   20] | d_loss: 1.0276 | g_loss: 2.2585\n",
      "Epoch [    6/   20] | d_loss: 1.2137 | g_loss: 1.1735\n",
      "Epoch [    6/   20] | d_loss: 1.1209 | g_loss: 1.2338\n",
      "Epoch [    7/   20] | d_loss: 1.0215 | g_loss: 1.8711\n",
      "Epoch [    7/   20] | d_loss: 1.1656 | g_loss: 1.5823\n",
      "Epoch [    7/   20] | d_loss: 0.9534 | g_loss: 2.5483\n",
      "Epoch [    8/   20] | d_loss: 1.1222 | g_loss: 1.5672\n",
      "Epoch [    8/   20] | d_loss: 1.1186 | g_loss: 1.3318\n",
      "Epoch [    8/   20] | d_loss: 1.2086 | g_loss: 1.1840\n",
      "Epoch [    9/   20] | d_loss: 1.2550 | g_loss: 1.1348\n",
      "Epoch [    9/   20] | d_loss: 1.0411 | g_loss: 1.5930\n",
      "Epoch [    9/   20] | d_loss: 1.1607 | g_loss: 1.7227\n",
      "Epoch [   10/   20] | d_loss: 1.2970 | g_loss: 1.3886\n",
      "Epoch [   10/   20] | d_loss: 1.2522 | g_loss: 1.1725\n",
      "Epoch [   10/   20] | d_loss: 1.2306 | g_loss: 1.0551\n",
      "Epoch [   11/   20] | d_loss: 1.0967 | g_loss: 1.5090\n",
      "Epoch [   11/   20] | d_loss: 1.1577 | g_loss: 1.6793\n",
      "Epoch [   11/   20] | d_loss: 1.2378 | g_loss: 1.2711\n",
      "Epoch [   12/   20] | d_loss: 1.1789 | g_loss: 1.1154\n",
      "Epoch [   12/   20] | d_loss: 1.2144 | g_loss: 1.0725\n",
      "Epoch [   12/   20] | d_loss: 1.1878 | g_loss: 1.0917\n",
      "Epoch [   13/   20] | d_loss: 1.1461 | g_loss: 1.1340\n",
      "Epoch [   13/   20] | d_loss: 1.1625 | g_loss: 1.1246\n",
      "Epoch [   13/   20] | d_loss: 1.3682 | g_loss: 0.8313\n",
      "Epoch [   14/   20] | d_loss: 1.2995 | g_loss: 1.0006\n",
      "Epoch [   14/   20] | d_loss: 1.2974 | g_loss: 0.9858\n",
      "Epoch [   14/   20] | d_loss: 1.3308 | g_loss: 0.8630\n",
      "Epoch [   15/   20] | d_loss: 1.2242 | g_loss: 1.1280\n",
      "Epoch [   15/   20] | d_loss: 1.2413 | g_loss: 1.1799\n",
      "Epoch [   15/   20] | d_loss: 1.4085 | g_loss: 0.9711\n",
      "Epoch [   16/   20] | d_loss: 1.3028 | g_loss: 0.8619\n",
      "Epoch [   16/   20] | d_loss: 1.2350 | g_loss: 1.0588\n",
      "Epoch [   16/   20] | d_loss: 1.4308 | g_loss: 1.2115\n",
      "Epoch [   17/   20] | d_loss: 1.3377 | g_loss: 0.8316\n",
      "Epoch [   17/   20] | d_loss: 1.2360 | g_loss: 1.0156\n",
      "Epoch [   17/   20] | d_loss: 1.2479 | g_loss: 0.9968\n",
      "Epoch [   18/   20] | d_loss: 1.3433 | g_loss: 0.9336\n",
      "Epoch [   18/   20] | d_loss: 1.3032 | g_loss: 1.5149\n",
      "Epoch [   18/   20] | d_loss: 1.3683 | g_loss: 0.8829\n",
      "Epoch [   19/   20] | d_loss: 1.3043 | g_loss: 0.9413\n",
      "Epoch [   19/   20] | d_loss: 1.2019 | g_loss: 1.1356\n",
      "Epoch [   19/   20] | d_loss: 1.1945 | g_loss: 2.5291\n",
      "Epoch [   20/   20] | d_loss: 1.3125 | g_loss: 1.3641\n",
      "Epoch [   20/   20] | d_loss: 1.1716 | g_loss: 1.1585\n",
      "Epoch [   20/   20] | d_loss: 1.2990 | g_loss: 0.9076\n"
     ]
    }
   ],
   "source": [
    "import pickle as pkl\n",
    "\n",
    "# training hyperparams\n",
    "num_epochs = 20\n",
    "\n",
    "# keep track of loss and generated, \"fake\" samples\n",
    "samples = []\n",
    "losses = []\n",
    "\n",
    "print_every = 400\n",
    "\n",
    "# Get some fixed data for sampling. These are images that are held\n",
    "# constant throughout training, and allow us to inspect the model's performance\n",
    "sample_size=16\n",
    "fixed_z = np.random.uniform(-1, 1, size=(sample_size, z_size))\n",
    "fixed_z = torch.from_numpy(fixed_z).float()\n",
    "\n",
    "# train the network\n",
    "D.train()\n",
    "G.train()\n",
    "for epoch in range(num_epochs):\n",
    "    \n",
    "    for batch_i, (real_images, _) in enumerate(train_loader):\n",
    "                \n",
    "        batch_size = real_images.size(0)\n",
    "        \n",
    "        ## Important rescaling step ## \n",
    "        real_images = real_images*2 - 1  # rescale input images from [0,1) to [-1, 1)\n",
    "        \n",
    "        # ============================================\n",
    "        #            TRAIN THE DISCRIMINATOR\n",
    "        # ============================================\n",
    "        \n",
    "        d_optimizer.zero_grad()\n",
    "        \n",
    "        # 1. Train with real images\n",
    "\n",
    "        # Compute the discriminator losses on real images \n",
    "        # smooth the real labels\n",
    "        D_real = D(real_images)\n",
    "        d_real_loss = real_loss(D_real, smooth=True)\n",
    "        \n",
    "        # 2. Train with fake images\n",
    "        \n",
    "        # Generate fake images\n",
    "        z = np.random.uniform(-1, 1, size=(batch_size, z_size))\n",
    "        z = torch.from_numpy(z).float()\n",
    "        fake_images = G(z)\n",
    "        \n",
    "        # Compute the discriminator losses on fake images        \n",
    "        D_fake = D(fake_images)\n",
    "        d_fake_loss = fake_loss(D_fake)\n",
    "        \n",
    "        # add up loss and perform backprop\n",
    "        d_loss = d_real_loss + d_fake_loss\n",
    "        d_loss.backward()\n",
    "        d_optimizer.step()\n",
    "        \n",
    "        \n",
    "        # =========================================\n",
    "        #            TRAIN THE GENERATOR\n",
    "        # =========================================\n",
    "        g_optimizer.zero_grad()\n",
    "        \n",
    "        # 1. Train with fake images and flipped labels\n",
    "        \n",
    "        # Generate fake images\n",
    "        z = np.random.uniform(-1, 1, size=(batch_size, z_size))\n",
    "        z = torch.from_numpy(z).float()\n",
    "        fake_images = G(z)\n",
    "        \n",
    "        # Compute the discriminator losses on fake images \n",
    "        # using flipped labels!\n",
    "        D_fake = D(fake_images)\n",
    "        g_loss = real_loss(D_fake) # use real loss to flip labels\n",
    "        \n",
    "        # perform backprop\n",
    "        g_loss.backward()\n",
    "        g_optimizer.step()\n",
    "\n",
    "        # Print some loss stats\n",
    "        if batch_i % print_every == 0:\n",
    "            # print discriminator and generator loss\n",
    "            print('Epoch [{:5d}/{:5d}] | d_loss: {:6.4f} | g_loss: {:6.4f}'.format(\n",
    "                    epoch+1, num_epochs, d_loss.item(), g_loss.item()))\n",
    "\n",
    "    \n",
    "    ## AFTER EACH EPOCH##\n",
    "    # append discriminator loss and generator loss\n",
    "    losses.append((d_loss.item(), g_loss.item()))\n",
    "    \n",
    "    # generate and save sample, fake images\n",
    "    G.eval() # eval mode for generating samples\n",
    "    samples_z = G(fixed_z)\n",
    "    samples.append(samples_z)\n",
    "    G.train() # back to train mode\n",
    "\n",
    "\n",
    "# Save training generator samples\n",
    "with open('train_samples.pkl', 'wb') as f:\n",
    "    pkl.dump(samples, f)"
   ]
  },
  {
   "cell_type": "code",
   "execution_count": null,
   "metadata": {
    "collapsed": true
   },
   "outputs": [],
   "source": []
  },
  {
   "cell_type": "code",
   "execution_count": 12,
   "metadata": {
    "collapsed": false
   },
   "outputs": [
    {
     "data": {
      "text/plain": [
       "<matplotlib.legend.Legend at 0x11dd9d390>"
      ]
     },
     "execution_count": 12,
     "metadata": {},
     "output_type": "execute_result"
    },
    {
     "data": {
      "image/png": "[encoded data removed]",
      "text/plain": [
       "<matplotlib.figure.Figure at 0x11b931400>"
      ]
     },
     "metadata": {},
     "output_type": "display_data"
    }
   ],
   "source": [
    "fig, ax = plt.subplots()\n",
    "losses = np.array(losses)\n",
    "plt.plot(losses.T[0], label='Discriminator')\n",
    "plt.plot(losses.T[1], label='Generator')\n",
    "plt.title(\"Training Losses\")\n",
    "plt.legend()"
   ]
  },
  {
   "cell_type": "code",
   "execution_count": 13,
   "metadata": {
    "collapsed": true
   },
   "outputs": [],
   "source": [
    "# helper function for viewing a list of passed in sample images\n",
    "def view_samples(epoch, samples):\n",
    "    fig, axes = plt.subplots(figsize=(7,7), nrows=4, ncols=4, sharey=True, sharex=True)\n",
    "    for ax, img in zip(axes.flatten(), samples[epoch]):\n",
    "        img = img.detach()\n",
    "        ax.xaxis.set_visible(False)\n",
    "        ax.yaxis.set_visible(False)\n",
    "        im = ax.imshow(img.reshape((28,28)), cmap='Greys_r')"
   ]
  },
  {
   "cell_type": "code",
   "execution_count": 14,
   "metadata": {
    "collapsed": true
   },
   "outputs": [],
   "source": [
    "# Load samples from generator, taken while training\n",
    "with open('train_samples.pkl', 'rb') as f:\n",
    "    samples = pkl.load(f)"
   ]
  },
  {
   "cell_type": "code",
   "execution_count": 15,
   "metadata": {
    "collapsed": false
   },
   "outputs": [
    {
     "data": {
      "image/png": "[encoded data removed]",
      "text/plain": [
       "<matplotlib.figure.Figure at 0x11b8b2b70>"
      ]
     },
     "metadata": {},
     "output_type": "display_data"
    }
   ],
   "source": [
    "# -1 indicates final epoch's samples (the last in the list)\n",
    "view_samples(-1, samples)"
   ]
  },
  {
   "cell_type": "code",
   "execution_count": null,
   "metadata": {
    "collapsed": false
   },
   "outputs": [],
   "source": [
    "rows = 10 # split epochs into 10, so 100/10 = every 10 epochs\n",
    "cols = 6\n",
    "fig, axes = plt.subplots(figsize=(7,12), nrows=rows, ncols=cols, sharex=True, sharey=True)\n",
    "\n",
    "for sample, ax_row in zip(samples[::int(len(samples)/rows)], axes):\n",
    "    for img, ax in zip(sample[::int(len(sample)/cols)], ax_row):\n",
    "        img = img.detach()\n",
    "        ax.imshow(img.reshape((28,28)), cmap='Greys_r')\n",
    "        ax.xaxis.set_visible(False)\n",
    "        ax.yaxis.set_visible(False)"
   ]
  },
  {
   "cell_type": "code",
   "execution_count": 51,
   "metadata": {
    "collapsed": false
   },
   "outputs": [
    {
     "data": {
      "image/png": "[encoded data removed]",
      "text/plain": [
       "<Figure size 504x504 with 16 Axes>"
      ]
     },
     "metadata": {
      "needs_background": "light"
     },
     "output_type": "display_data"
    }
   ],
   "source": [
    "# randomly generated, new latent vectors\n",
    "sample_size=16\n",
    "rand_z = np.random.uniform(-1, 1, size=(sample_size, z_size))\n",
    "rand_z = torch.from_numpy(rand_z).float()\n",
    "\n",
    "G.eval() \n",
    "# eval mode\n",
    "# generated samples\n",
    "rand_images = G(rand_z)\n",
    "\n",
    "# 0 indicates the first set of samples in the passed in list\n",
    "# and we only have one batch of samples, here\n",
    "view_samples(0, [rand_images])"
   ]
  },
  {
   "cell_type": "code",
   "execution_count": null,
   "metadata": {
    "collapsed": true
   },
   "outputs": [],
   "source": []
  }
 ],
 "metadata": {
  "kernelspec": {
   "display_name": "Python 3",
   "language": "python",
   "name": "python3"
  },
  "language_info": {
   "codemirror_mode": {
    "name": "ipython",
    "version": 3
   },
   "file_extension": ".py",
   "mimetype": "text/x-python",
   "name": "python",
   "nbconvert_exporter": "python",
   "pygments_lexer": "ipython3",
   "version": "3.6.0"
  }
 },
 "nbformat": 4,
 "nbformat_minor": 4
}
